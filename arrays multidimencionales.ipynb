{
 "cells": [
  {
   "cell_type": "code",
   "execution_count": 1,
   "id": "0574acbf",
   "metadata": {},
   "outputs": [],
   "source": [
    "import numpy as np #Andrade Alvarado Alberto Abraham"
   ]
  },
  {
   "cell_type": "code",
   "execution_count": 2,
   "id": "8ff293da",
   "metadata": {},
   "outputs": [],
   "source": [
    "arreglo = np.array([0,1,2,3,4,5])   #Andrade Alvarado Alberto Abraham"
   ]
  },
  {
   "cell_type": "code",
   "execution_count": 3,
   "id": "c50b501b",
   "metadata": {},
   "outputs": [
    {
     "data": {
      "text/plain": [
       "(array([0, 1, 2, 3, 4, 5]), numpy.ndarray)"
      ]
     },
     "execution_count": 3,
     "metadata": {},
     "output_type": "execute_result"
    }
   ],
   "source": [
    "arreglo, type(arreglo) #Andrade Alvarado Alberto Abraham"
   ]
  },
  {
   "cell_type": "code",
   "execution_count": 4,
   "id": "a64e9dc3",
   "metadata": {},
   "outputs": [],
   "source": [
    "notas = [16,17,14,17,19,15]         #Andrade Alvarado Alberto Abraham\n",
    "\n",
    "ar_notas = np.array(notas, dtype=float)"
   ]
  },
  {
   "cell_type": "code",
   "execution_count": 5,
   "id": "000e801e",
   "metadata": {},
   "outputs": [
    {
     "data": {
      "text/plain": [
       "(array([16., 17., 14., 17., 19., 15.]), numpy.float64)"
      ]
     },
     "execution_count": 5,
     "metadata": {},
     "output_type": "execute_result"
    }
   ],
   "source": [
    "ar_notas, type(ar_notas[0])      #Andrade Alvarado Alberto Abraham"
   ]
  },
  {
   "cell_type": "code",
   "execution_count": 6,
   "id": "a6bbb1b1",
   "metadata": {},
   "outputs": [
    {
     "data": {
      "text/plain": [
       "array([[ 0,  1,  2,  3,  4,  5],\n",
       "       [16, 17, 14, 17, 19, 15]])"
      ]
     },
     "execution_count": 6,
     "metadata": {},
     "output_type": "execute_result"
    }
   ],
   "source": [
    "ar_notas_todas = np.array(([0,1,2,3,4,5], notas))     #Andrade Alvarado Alberto Abraham\n",
    "ar_notas_todas"
   ]
  },
  {
   "cell_type": "code",
   "execution_count": 7,
   "id": "1b10ead0",
   "metadata": {},
   "outputs": [
    {
     "name": "stdout",
     "output_type": "stream",
     "text": [
      "2\n",
      "1\n"
     ]
    }
   ],
   "source": [
    "print(ar_notas_todas.ndim)     #Andrade Alvarado Alberto Abraham\n",
    "print(ar_notas.ndim)"
   ]
  },
  {
   "cell_type": "code",
   "execution_count": 8,
   "id": "31966d11",
   "metadata": {},
   "outputs": [
    {
     "name": "stdout",
     "output_type": "stream",
     "text": [
      "(2, 6)\n",
      "(6,)\n"
     ]
    }
   ],
   "source": [
    "print(ar_notas_todas.shape)       #Andrade Alvarado Alberto Abraham\n",
    "print(ar_notas.shape)"
   ]
  },
  {
   "cell_type": "code",
   "execution_count": 9,
   "id": "23544ddb",
   "metadata": {},
   "outputs": [
    {
     "name": "stdout",
     "output_type": "stream",
     "text": [
      "[[0. 0. 0.]\n",
      " [0. 0. 0.]]\n"
     ]
    }
   ],
   "source": [
    "arr = np.zeros((2,3), dtype=float)      #Andrade Alvarado Alberto Abraham\n",
    "print (arr)"
   ]
  },
  {
   "cell_type": "code",
   "execution_count": 11,
   "id": "3e46eb4b",
   "metadata": {},
   "outputs": [
    {
     "name": "stdout",
     "output_type": "stream",
     "text": [
      "[[1. 1. 1. 1.]\n",
      " [1. 1. 1. 1.]\n",
      " [1. 1. 1. 1.]]\n"
     ]
    }
   ],
   "source": [
    "ar2 = np.ones((3,4), dtype=float)     #Andrade Alvarado Alberto Abraham\n",
    "print (ar2)\n"
   ]
  },
  {
   "cell_type": "code",
   "execution_count": 12,
   "id": "99172859",
   "metadata": {},
   "outputs": [
    {
     "name": "stdout",
     "output_type": "stream",
     "text": [
      "[[1. 0. 0. 0.]\n",
      " [0. 1. 0. 0.]\n",
      " [0. 0. 1. 0.]\n",
      " [0. 0. 0. 1.]]\n"
     ]
    }
   ],
   "source": [
    "ar4 = np.identity((4), dtype=float)     #Andrade Alvarado Alberto Abraham\n",
    "print (ar4)"
   ]
  },
  {
   "cell_type": "code",
   "execution_count": 13,
   "id": "bae6c6ed",
   "metadata": {},
   "outputs": [
    {
     "name": "stdout",
     "output_type": "stream",
     "text": [
      "[1 2 3 4 5 6 7 8]\n"
     ]
    }
   ],
   "source": [
    "ar5 = np.arange(1,9)        #Andrade Alvarado Alberto Abraham\n",
    "print (ar5)"
   ]
  },
  {
   "cell_type": "code",
   "execution_count": null,
   "id": "1ee405e8",
   "metadata": {},
   "outputs": [],
   "source": []
  }
 ],
 "metadata": {
  "kernelspec": {
   "display_name": "Python 3 (ipykernel)",
   "language": "python",
   "name": "python3"
  },
  "language_info": {
   "codemirror_mode": {
    "name": "ipython",
    "version": 3
   },
   "file_extension": ".py",
   "mimetype": "text/x-python",
   "name": "python",
   "nbconvert_exporter": "python",
   "pygments_lexer": "ipython3",
   "version": "3.9.7"
  }
 },
 "nbformat": 4,
 "nbformat_minor": 5
}
