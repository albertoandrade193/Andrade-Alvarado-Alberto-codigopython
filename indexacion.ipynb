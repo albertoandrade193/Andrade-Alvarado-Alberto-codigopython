{
 "cells": [
  {
   "cell_type": "code",
   "execution_count": 1,
   "id": "c1ba39c3",
   "metadata": {},
   "outputs": [
    {
     "data": {
      "text/plain": [
       "array([[ 0,  1,  2,  3,  4,  5,  6,  7],\n",
       "       [ 8,  9, 10, 11, 12, 13, 14, 15],\n",
       "       [16, 17, 18, 19, 20, 21, 22, 23],\n",
       "       [24, 25, 26, 27, 28, 29, 30, 31],\n",
       "       [32, 33, 34, 35, 36, 37, 38, 39],\n",
       "       [40, 41, 42, 43, 44, 45, 46, 47],\n",
       "       [48, 49, 50, 51, 52, 53, 54, 55],\n",
       "       [56, 57, 58, 59, 60, 61, 62, 63]])"
      ]
     },
     "execution_count": 1,
     "metadata": {},
     "output_type": "execute_result"
    }
   ],
   "source": [
    "import numpy as np \n",
    "#Andrade Alvarado Alberto Abraham\n",
    "a= np.array(range(64)).reshape((8,8))\n",
    "a"
   ]
  },
  {
   "cell_type": "code",
   "execution_count": 2,
   "id": "03a2f25e",
   "metadata": {},
   "outputs": [
    {
     "data": {
      "text/plain": [
       "9"
      ]
     },
     "execution_count": 2,
     "metadata": {},
     "output_type": "execute_result"
    }
   ],
   "source": [
    "a[1,1]        #Andrade Alvarado Alberto Abraham"
   ]
  },
  {
   "cell_type": "code",
   "execution_count": 3,
   "id": "c8cc9a6b",
   "metadata": {},
   "outputs": [
    {
     "data": {
      "text/plain": [
       "array([[ 0,  1,  2,  3,  4,  5,  6,  7],\n",
       "       [16, 17, 18, 19, 20, 21, 22, 23],\n",
       "       [32, 33, 34, 35, 36, 37, 38, 39],\n",
       "       [48, 49, 50, 51, 52, 53, 54, 55]])"
      ]
     },
     "execution_count": 3,
     "metadata": {},
     "output_type": "execute_result"
    }
   ],
   "source": [
    "a[0:7:2, ]         #Andrade Alvarado Alberto Abraham"
   ]
  },
  {
   "cell_type": "code",
   "execution_count": 4,
   "id": "c03ae61a",
   "metadata": {},
   "outputs": [
    {
     "data": {
      "text/plain": [
       "array([11, 12, 13, 14, 15])"
      ]
     },
     "execution_count": 4,
     "metadata": {},
     "output_type": "execute_result"
    }
   ],
   "source": [
    "a[1,3:]"
   ]
  },
  {
   "cell_type": "code",
   "execution_count": 5,
   "id": "8e7f51cf",
   "metadata": {},
   "outputs": [
    {
     "data": {
      "text/plain": [
       "array([11, 30, 47])"
      ]
     },
     "execution_count": 5,
     "metadata": {},
     "output_type": "execute_result"
    }
   ],
   "source": [
    "a[[1,3,5],[3,6,7]]"
   ]
  },
  {
   "cell_type": "code",
   "execution_count": 6,
   "id": "bad12d94",
   "metadata": {},
   "outputs": [
    {
     "data": {
      "text/plain": [
       "array([[ 8, 11, 14],\n",
       "       [24, 27, 30],\n",
       "       [40, 43, 46]])"
      ]
     },
     "execution_count": 6,
     "metadata": {},
     "output_type": "execute_result"
    }
   ],
   "source": [
    "a[[1,3,5],::3]"
   ]
  },
  {
   "cell_type": "code",
   "execution_count": 7,
   "id": "6c18a186",
   "metadata": {},
   "outputs": [
    {
     "data": {
      "text/plain": [
       "array([0, 1, 2, 3, 4, 5, 6, 7])"
      ]
     },
     "execution_count": 7,
     "metadata": {},
     "output_type": "execute_result"
    }
   ],
   "source": [
    "data = np.arange(8)            #Andrade Alvarado Alberto Abraham\n",
    "data "
   ]
  },
  {
   "cell_type": "code",
   "execution_count": 8,
   "id": "28745e9a",
   "metadata": {},
   "outputs": [
    {
     "data": {
      "text/plain": [
       "array([ True,  True,  True,  True, False, False, False, False])"
      ]
     },
     "execution_count": 8,
     "metadata": {},
     "output_type": "execute_result"
    }
   ],
   "source": [
    " data < 4              #Andrade Alvarado Alberto Abraham"
   ]
  },
  {
   "cell_type": "code",
   "execution_count": 9,
   "id": "9e9cdcb2",
   "metadata": {},
   "outputs": [
    {
     "data": {
      "text/plain": [
       "array([0, 1, 2, 3])"
      ]
     },
     "execution_count": 9,
     "metadata": {},
     "output_type": "execute_result"
    }
   ],
   "source": [
    "data [data<4] #Andrade Alvarado Alberto Abraham"
   ]
  },
  {
   "cell_type": "code",
   "execution_count": 10,
   "id": "05be1f07",
   "metadata": {},
   "outputs": [
    {
     "data": {
      "text/plain": [
       "array([0, 1, 2, 3])"
      ]
     },
     "execution_count": 10,
     "metadata": {},
     "output_type": "execute_result"
    }
   ],
   "source": [
    "data[np.array([True, True, True, True, False, False, False, False])]"
   ]
  },
  {
   "cell_type": "code",
   "execution_count": 11,
   "id": "531f45e8",
   "metadata": {},
   "outputs": [],
   "source": [
    "amigos = np.array(['giuila', 'victor', 'johel', 'andreina', 'valentina', 'albert', 'roque'])"
   ]
  },
  {
   "cell_type": "code",
   "execution_count": 12,
   "id": "886b1006",
   "metadata": {},
   "outputs": [
    {
     "data": {
      "text/plain": [
       "True"
      ]
     },
     "execution_count": 12,
     "metadata": {},
     "output_type": "execute_result"
    }
   ],
   "source": [
    "'giuila' in amigos          #Andrade Alvarado Alberto Abraham"
   ]
  },
  {
   "cell_type": "code",
   "execution_count": 13,
   "id": "8a0edf85",
   "metadata": {},
   "outputs": [
    {
     "data": {
      "text/plain": [
       "array(['victor', 'johel', 'andreina', 'valentina', 'albert', 'roque'],\n",
       "      dtype='<U9')"
      ]
     },
     "execution_count": 13,
     "metadata": {},
     "output_type": "execute_result"
    }
   ],
   "source": [
    "amigos[amigos!='giuila']             #Andrade Alvarado Alberto Abraham"
   ]
  },
  {
   "cell_type": "code",
   "execution_count": null,
   "id": "e7701b60",
   "metadata": {},
   "outputs": [],
   "source": []
  }
 ],
 "metadata": {
  "kernelspec": {
   "display_name": "Python 3 (ipykernel)",
   "language": "python",
   "name": "python3"
  },
  "language_info": {
   "codemirror_mode": {
    "name": "ipython",
    "version": 3
   },
   "file_extension": ".py",
   "mimetype": "text/x-python",
   "name": "python",
   "nbconvert_exporter": "python",
   "pygments_lexer": "ipython3",
   "version": "3.9.7"
  }
 },
 "nbformat": 4,
 "nbformat_minor": 5
}
