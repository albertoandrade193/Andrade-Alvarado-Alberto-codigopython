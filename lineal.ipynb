{
 "cells": [
  {
   "cell_type": "code",
   "execution_count": 2,
   "id": "78afa607",
   "metadata": {},
   "outputs": [
    {
     "data": {
      "text/plain": [
       "5.0"
      ]
     },
     "execution_count": 2,
     "metadata": {},
     "output_type": "execute_result"
    }
   ],
   "source": [
    "import numpy as np \n",
    "#Andrade Alvarado Alberto Abraham\n",
    "a = np.array([1,2,3], float)\n",
    "b = np.array([0,1,1], float)\n",
    "\n",
    "np.dot(b, a)"
   ]
  },
  {
   "cell_type": "code",
   "execution_count": 3,
   "id": "6559c5ab",
   "metadata": {},
   "outputs": [
    {
     "data": {
      "text/plain": [
       "5.0"
      ]
     },
     "execution_count": 3,
     "metadata": {},
     "output_type": "execute_result"
    }
   ],
   "source": [
    "a.dot(b)#Andrade Alvarado Alberto Abraham"
   ]
  },
  {
   "cell_type": "code",
   "execution_count": 4,
   "id": "a5343e0d",
   "metadata": {},
   "outputs": [
    {
     "name": "stdout",
     "output_type": "stream",
     "text": [
      "[[5. 2.]\n",
      " [4. 8.]] \n",
      " -------------\n",
      "[[2. 4.]\n",
      " [5. 3.]] \n",
      " -------------\n"
     ]
    }
   ],
   "source": [
    "a = np.array([[5,2], [4,8]], float)#Andrade Alvarado Alberto Abraham\n",
    "b = np.array([[2,4], [5,3]], float)\n",
    "\n",
    "print(a, \"\\n -------------\")\n",
    "print(b, \"\\n -------------\")"
   ]
  },
  {
   "cell_type": "code",
   "execution_count": 5,
   "id": "c9083b64",
   "metadata": {},
   "outputs": [
    {
     "data": {
      "text/plain": [
       "array([[20., 26.],\n",
       "       [48., 40.]])"
      ]
     },
     "execution_count": 5,
     "metadata": {},
     "output_type": "execute_result"
    }
   ],
   "source": [
    "np.dot(a,b)#Andrade Alvarado Alberto Abraham"
   ]
  },
  {
   "cell_type": "code",
   "execution_count": 6,
   "id": "3fe2a972",
   "metadata": {},
   "outputs": [
    {
     "data": {
      "text/plain": [
       "array([[20., 26.],\n",
       "       [48., 40.]])"
      ]
     },
     "execution_count": 6,
     "metadata": {},
     "output_type": "execute_result"
    }
   ],
   "source": [
    "a @ b#Andrade Alvarado Alberto Abraham"
   ]
  },
  {
   "cell_type": "code",
   "execution_count": 7,
   "id": "a2884052",
   "metadata": {},
   "outputs": [
    {
     "name": "stdout",
     "output_type": "stream",
     "text": [
      "[2. 3. 5.] \n",
      " -------------\n",
      "[[0. 1. 4.]\n",
      " [5. 2. 3.]\n",
      " [1. 4. 8.]] \n",
      " -------------\n"
     ]
    }
   ],
   "source": [
    "a = np.array([[0,1,4], [5,2,3],[1,4,8]],float)\n",
    "\n",
    "b = np.array([2,3,5],float)\n",
    "\n",
    "print(b, \"\\n -------------\")#Andrade Alvarado Alberto Abraham\n",
    "print(a,  \"\\n -------------\")"
   ]
  },
  {
   "cell_type": "code",
   "execution_count": 8,
   "id": "4520e6e2",
   "metadata": {},
   "outputs": [
    {
     "data": {
      "text/plain": [
       "array([23., 31., 54.])"
      ]
     },
     "execution_count": 8,
     "metadata": {},
     "output_type": "execute_result"
    }
   ],
   "source": [
    "np.dot(a,b)#Andrade Alvarado Alberto Abraham"
   ]
  },
  {
   "cell_type": "code",
   "execution_count": 9,
   "id": "b9704bf7",
   "metadata": {},
   "outputs": [
    {
     "data": {
      "text/plain": [
       "array([23., 31., 54.])"
      ]
     },
     "execution_count": 9,
     "metadata": {},
     "output_type": "execute_result"
    }
   ],
   "source": [
    "a @ b"
   ]
  },
  {
   "cell_type": "code",
   "execution_count": 10,
   "id": "a974371f",
   "metadata": {},
   "outputs": [
    {
     "name": "stdout",
     "output_type": "stream",
     "text": [
      "[23. 31. 54.]\n"
     ]
    }
   ],
   "source": [
    "print(np.matmul(a,b))#Andrade Alvarado Alberto Abraham"
   ]
  },
  {
   "cell_type": "code",
   "execution_count": 11,
   "id": "9748d20e",
   "metadata": {},
   "outputs": [
    {
     "name": "stdout",
     "output_type": "stream",
     "text": [
      "[[8 5]\n",
      " [3 4]] \n",
      "-------------\n"
     ]
    },
    {
     "data": {
      "text/plain": [
       "17.0"
      ]
     },
     "execution_count": 11,
     "metadata": {},
     "output_type": "execute_result"
    }
   ],
   "source": [
    "a = np.array([[8,5], [3,4]])\n",
    "print (a, \"\\n-------------\")\n",
    "\n",
    "np.linalg.det(a)"
   ]
  },
  {
   "cell_type": "code",
   "execution_count": 12,
   "id": "50202b99",
   "metadata": {},
   "outputs": [
    {
     "name": "stdout",
     "output_type": "stream",
     "text": [
      "[10.35889894  1.64110106] \n",
      "-------------\n",
      "[[ 0.90440309 -0.61810602]\n",
      " [ 0.4266791   0.78609474]] \n",
      "-------------\n"
     ]
    }
   ],
   "source": [
    "vals, vecs = np.linalg.eig(a)\n",
    "print (vals, \"\\n-------------\")#Andrade Alvarado Alberto Abraham\n",
    "print (vecs, \"\\n-------------\")"
   ]
  },
  {
   "cell_type": "code",
   "execution_count": null,
   "id": "b404a5ff",
   "metadata": {},
   "outputs": [],
   "source": []
  }
 ],
 "metadata": {
  "kernelspec": {
   "display_name": "Python 3 (ipykernel)",
   "language": "python",
   "name": "python3"
  },
  "language_info": {
   "codemirror_mode": {
    "name": "ipython",
    "version": 3
   },
   "file_extension": ".py",
   "mimetype": "text/x-python",
   "name": "python",
   "nbconvert_exporter": "python",
   "pygments_lexer": "ipython3",
   "version": "3.9.7"
  }
 },
 "nbformat": 4,
 "nbformat_minor": 5
}
