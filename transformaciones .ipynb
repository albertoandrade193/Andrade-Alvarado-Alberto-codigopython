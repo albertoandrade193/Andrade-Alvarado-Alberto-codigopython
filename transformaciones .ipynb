{
 "cells": [
  {
   "cell_type": "code",
   "execution_count": 1,
   "id": "ff614fd9",
   "metadata": {},
   "outputs": [
    {
     "data": {
      "text/plain": [
       "array([[12, 35, 33, 11],\n",
       "       [34, 39, 71, 71],\n",
       "       [75, 23, 25, 65]])"
      ]
     },
     "execution_count": 1,
     "metadata": {},
     "output_type": "execute_result"
    }
   ],
   "source": [
    "import numpy as np \n",
    "\n",
    "arr_ent = np.random.randint(100,size=(3,4))           #Andrade Alvarado Alberto Abraham\n",
    "arr_ent"
   ]
  },
  {
   "cell_type": "code",
   "execution_count": 2,
   "id": "427714c7",
   "metadata": {},
   "outputs": [
    {
     "data": {
      "text/plain": [
       "array([[12., 35., 33., 11.],\n",
       "       [34., 39., 71., 71.],\n",
       "       [75., 23., 25., 65.]])"
      ]
     },
     "execution_count": 2,
     "metadata": {},
     "output_type": "execute_result"
    }
   ],
   "source": [
    "arr_ent.astype(float) #Andrade Alvarado Alberto Abraham"
   ]
  },
  {
   "cell_type": "code",
   "execution_count": 3,
   "id": "d00d0fec",
   "metadata": {},
   "outputs": [
    {
     "data": {
      "text/plain": [
       "array([[12, 35, 33, 11],\n",
       "       [34, 39, 71, 71],\n",
       "       [75, 23, 25, 65]])"
      ]
     },
     "execution_count": 3,
     "metadata": {},
     "output_type": "execute_result"
    }
   ],
   "source": [
    "arr_ent             #Andrade Alvarado Alberto Abraham"
   ]
  },
  {
   "cell_type": "code",
   "execution_count": 4,
   "id": "75ab2009",
   "metadata": {},
   "outputs": [
    {
     "data": {
      "text/plain": [
       "array([[11, 12, 33, 35],\n",
       "       [34, 39, 71, 71],\n",
       "       [23, 25, 65, 75]])"
      ]
     },
     "execution_count": 4,
     "metadata": {},
     "output_type": "execute_result"
    }
   ],
   "source": [
    "arr_ent.sort()            #Andrade Alvarado Alberto Abraham\n",
    "arr_ent"
   ]
  },
  {
   "cell_type": "code",
   "execution_count": 5,
   "id": "471b47c8",
   "metadata": {},
   "outputs": [
    {
     "data": {
      "text/plain": [
       "array([[11, 12, 33, 35],\n",
       "       [23, 25, 65, 71],\n",
       "       [34, 39, 71, 75]])"
      ]
     },
     "execution_count": 5,
     "metadata": {},
     "output_type": "execute_result"
    }
   ],
   "source": [
    "arr_ent.sort(axis=0)            #Andrade Alvarado Alberto Abraham\n",
    "arr_ent"
   ]
  },
  {
   "cell_type": "code",
   "execution_count": 6,
   "id": "444fd3d6",
   "metadata": {},
   "outputs": [
    {
     "data": {
      "text/plain": [
       "array([[11, 12, 33, 35],\n",
       "       [23, 25, 65, 71],\n",
       "       [34, 39, 71, 75]])"
      ]
     },
     "execution_count": 6,
     "metadata": {},
     "output_type": "execute_result"
    }
   ],
   "source": [
    "arr_ent              #Andrade Alvarado Alberto Abraham"
   ]
  },
  {
   "cell_type": "code",
   "execution_count": 12,
   "id": "87e11a2c",
   "metadata": {},
   "outputs": [
    {
     "data": {
      "text/plain": [
       "array([[11, 12, 33],\n",
       "       [35, 23, 25],\n",
       "       [65, 71, 34],\n",
       "       [39, 71, 75]])"
      ]
     },
     "execution_count": 12,
     "metadata": {},
     "output_type": "execute_result"
    }
   ],
   "source": [
    "arr_ent = arr_ent.reshape(4,3) #Andrade Alvarado Alberto Abraham\n",
    "arr_ent"
   ]
  },
  {
   "cell_type": "code",
   "execution_count": 13,
   "id": "14899bc9",
   "metadata": {},
   "outputs": [
    {
     "name": "stdout",
     "output_type": "stream",
     "text": [
      "[[11 12 33]\n",
      " [35 23 25]\n",
      " [65 71 34]\n",
      " [39 71 75]]\n",
      "[11 12 33 35 23 25 65 71 34 39 71 75]\n"
     ]
    }
   ],
   "source": [
    "plano_arr = arr_ent.flatten()               #Andrade Alvarado Alberto Abraham\n",
    "\n",
    "print(arr_ent)\n",
    "print(plano_arr)"
   ]
  },
  {
   "cell_type": "code",
   "execution_count": 14,
   "id": "20345a4e",
   "metadata": {},
   "outputs": [
    {
     "data": {
      "text/plain": [
       "[11, 12, 33, 35, 23, 25, 65, 71, 34, 39, 71, 75]"
      ]
     },
     "execution_count": 14,
     "metadata": {},
     "output_type": "execute_result"
    }
   ],
   "source": [
    "lista_arr = plano_arr.tolist()             #Andrade Alvarado Alberto Abraham\n",
    "lista_arr"
   ]
  },
  {
   "cell_type": "code",
   "execution_count": 15,
   "id": "a83d5dad",
   "metadata": {},
   "outputs": [
    {
     "data": {
      "text/plain": [
       "[array([[11, 12, 33]]),\n",
       " array([[35, 23, 25]]),\n",
       " array([[65, 71, 34]]),\n",
       " array([[39, 71, 75]])]"
      ]
     },
     "execution_count": 15,
     "metadata": {},
     "output_type": "execute_result"
    }
   ],
   "source": [
    "arrays= np.split(arr_ent,4)             #Andrade Alvarado Alberto Abraham\n",
    "arrays"
   ]
  },
  {
   "cell_type": "code",
   "execution_count": 16,
   "id": "263d30bc",
   "metadata": {},
   "outputs": [
    {
     "data": {
      "text/plain": [
       "array([[35, 23, 25],\n",
       "       [11, 12, 33]])"
      ]
     },
     "execution_count": 16,
     "metadata": {},
     "output_type": "execute_result"
    }
   ],
   "source": [
    "np.concatenate((arrays[1],arrays[0]),axis=0)"
   ]
  },
  {
   "cell_type": "code",
   "execution_count": 17,
   "id": "65f185f0",
   "metadata": {},
   "outputs": [
    {
     "data": {
      "text/plain": [
       "array([[11, 12, 33],\n",
       "       [35, 23, 25],\n",
       "       [65, 71, 34],\n",
       "       [39, 71, 75]])"
      ]
     },
     "execution_count": 17,
     "metadata": {},
     "output_type": "execute_result"
    }
   ],
   "source": [
    "arr_ent"
   ]
  },
  {
   "cell_type": "code",
   "execution_count": 18,
   "id": "532cc8d5",
   "metadata": {},
   "outputs": [
    {
     "data": {
      "text/plain": [
       "array([[11, 35, 65, 39],\n",
       "       [12, 23, 71, 71],\n",
       "       [33, 25, 34, 75]])"
      ]
     },
     "execution_count": 18,
     "metadata": {},
     "output_type": "execute_result"
    }
   ],
   "source": [
    "t_arr = arr_ent.T\n",
    "t_arr"
   ]
  },
  {
   "cell_type": "code",
   "execution_count": null,
   "id": "b039b2a3",
   "metadata": {},
   "outputs": [],
   "source": []
  }
 ],
 "metadata": {
  "kernelspec": {
   "display_name": "Python 3 (ipykernel)",
   "language": "python",
   "name": "python3"
  },
  "language_info": {
   "codemirror_mode": {
    "name": "ipython",
    "version": 3
   },
   "file_extension": ".py",
   "mimetype": "text/x-python",
   "name": "python",
   "nbconvert_exporter": "python",
   "pygments_lexer": "ipython3",
   "version": "3.9.7"
  }
 },
 "nbformat": 4,
 "nbformat_minor": 5
}
